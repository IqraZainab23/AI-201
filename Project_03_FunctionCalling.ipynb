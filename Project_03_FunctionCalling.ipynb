{
  "nbformat": 4,
  "nbformat_minor": 0,
  "metadata": {
    "colab": {
      "provenance": [],
      "authorship_tag": "ABX9TyOZ+/yPH7RdOXrEV7QiYN0o",
      "include_colab_link": true
    },
    "kernelspec": {
      "name": "python3",
      "display_name": "Python 3"
    },
    "language_info": {
      "name": "python"
    }
  },
  "cells": [
    {
      "cell_type": "markdown",
      "metadata": {
        "id": "view-in-github",
        "colab_type": "text"
      },
      "source": [
        "<a href=\"https://colab.research.google.com/github/IqraZainab23/AI-201/blob/main/Project_03_FunctionCalling.ipynb\" target=\"_parent\"><img src=\"https://colab.research.google.com/assets/colab-badge.svg\" alt=\"Open In Colab\"/></a>"
      ]
    },
    {
      "cell_type": "code",
      "execution_count": null,
      "metadata": {
        "collapsed": true,
        "id": "QjzAVxaBuy7w"
      },
      "outputs": [],
      "source": [
        "!pip install -qU langchain langchain_community langchain_google_genai"
      ]
    },
    {
      "cell_type": "code",
      "source": [
        "from google.colab import userdata\n",
        "import os\n",
        "\n",
        "os.environ[\"GOOGLE_API_KEY\"] = userdata.get('GOOGLE_API_KEY')"
      ],
      "metadata": {
        "id": "ElXEolRq07bq"
      },
      "execution_count": null,
      "outputs": []
    },
    {
      "cell_type": "code",
      "source": [
        "from langchain_google_genai import ChatGoogleGenerativeAI\n",
        "\n",
        "llm=ChatGoogleGenerativeAI(model='gemini-1.5-flash',verbose=True)\n",
        "\n",
        "llm.invoke(\"Hi\")"
      ],
      "metadata": {
        "colab": {
          "base_uri": "https://localhost:8080/"
        },
        "id": "UyEAbdng1MEh",
        "outputId": "8862771c-f2ae-4a42-e71a-094dd5fe8194"
      },
      "execution_count": null,
      "outputs": [
        {
          "output_type": "execute_result",
          "data": {
            "text/plain": [
              "AIMessage(content='Hi there! How can I help you today?', additional_kwargs={}, response_metadata={'prompt_feedback': {'block_reason': 0, 'safety_ratings': []}, 'finish_reason': 'STOP', 'safety_ratings': []}, id='run-864ee1e1-7d99-402f-9a75-737f374d2ffe-0', usage_metadata={'input_tokens': 2, 'output_tokens': 11, 'total_tokens': 13, 'input_token_details': {'cache_read': 0}})"
            ]
          },
          "metadata": {},
          "execution_count": 5
        }
      ]
    },
    {
      "cell_type": "code",
      "source": [
        "from langchain_core.tools import tool\n",
        "\n",
        "@tool\n",
        "def multiply(a: int, b: int) -> int:\n",
        "    \"\"\"Multiply a and b.\n",
        "\n",
        "    Args:\n",
        "        a: first int\n",
        "        b: second int\n",
        "    \"\"\"\n",
        "    return a * b\n",
        "\n",
        "llm_with_tools = llm.bind_tools([multiply])"
      ],
      "metadata": {
        "id": "Ip_c4LTt3hrI"
      },
      "execution_count": null,
      "outputs": []
    },
    {
      "cell_type": "code",
      "source": [
        "\n",
        "tools_list=[multiply]\n",
        "model_with_tools = llm.bind_tools(tools_list)"
      ],
      "metadata": {
        "id": "cnHO_nBE9GDS"
      },
      "execution_count": null,
      "outputs": []
    },
    {
      "cell_type": "code",
      "source": [
        "result = llm_with_tools.invoke(\"Hey how are you!\")\n",
        "result"
      ],
      "metadata": {
        "colab": {
          "base_uri": "https://localhost:8080/"
        },
        "id": "psnKJx22GeVo",
        "outputId": "e1ec9065-0ff9-4aae-9408-c90d54a0e772"
      },
      "execution_count": null,
      "outputs": [
        {
          "output_type": "execute_result",
          "data": {
            "text/plain": [
              "AIMessage(content=\"I'm doing well, thank you for asking! How are you today?\", additional_kwargs={}, response_metadata={'prompt_feedback': {'block_reason': 0, 'safety_ratings': []}, 'finish_reason': 'STOP', 'safety_ratings': []}, id='run-23cc41fc-a990-46a4-a279-8f39bf2dad90-0', usage_metadata={'input_tokens': 68, 'output_tokens': 17, 'total_tokens': 85, 'input_token_details': {'cache_read': 0}})"
            ]
          },
          "metadata": {},
          "execution_count": 8
        }
      ]
    },
    {
      "cell_type": "code",
      "source": [
        "\n",
        "result = llm_with_tools.invoke(\"What is 2 multiplied by 3?\")\n",
        "result"
      ],
      "metadata": {
        "colab": {
          "base_uri": "https://localhost:8080/"
        },
        "id": "_ByzL5B8Gfsk",
        "outputId": "2c6f889e-fd19-459d-afb0-0c4d501f4657"
      },
      "execution_count": null,
      "outputs": [
        {
          "output_type": "execute_result",
          "data": {
            "text/plain": [
              "AIMessage(content='', additional_kwargs={'function_call': {'name': 'multiply', 'arguments': '{\"a\": 2.0, \"b\": 3.0}'}}, response_metadata={'prompt_feedback': {'block_reason': 0, 'safety_ratings': []}, 'finish_reason': 'STOP', 'safety_ratings': []}, id='run-5d3a242a-b32e-40ce-b011-297b388f4886-0', tool_calls=[{'name': 'multiply', 'args': {'a': 2.0, 'b': 3.0}, 'id': '57ab4fec-f760-47b3-9a6d-5e48f8476fd9', 'type': 'tool_call'}], usage_metadata={'input_tokens': 72, 'output_tokens': 3, 'total_tokens': 75, 'input_token_details': {'cache_read': 0}})"
            ]
          },
          "metadata": {},
          "execution_count": 9
        }
      ]
    },
    {
      "cell_type": "code",
      "source": [
        "from langchain.tools import Tool\n",
        "\n",
        "# Example tool for subtraction\n",
        "def subtract_numbers(a, b):\n",
        "    return a - b\n",
        "\n",
        "math_tool = Tool(\n",
        "    name=\"SubtractionTool\",\n",
        "    # Pass subtract_numbers directly, rather than using lambda\n",
        "    func=lambda x: f\"The result is: {subtract_numbers(*map(int, x.split()))}\",\n",
        "    description=\"subtract two numbers. Input should be two integers separated by a space.\"\n",
        ")"
      ],
      "metadata": {
        "id": "HOrYHeguG2DC"
      },
      "execution_count": null,
      "outputs": []
    },
    {
      "cell_type": "code",
      "source": [
        "from langchain.agents import initialize_agent, AgentType\n",
        "\n",
        "# List of tools\n",
        "tools = [math_tool]\n",
        "\n",
        "# Initialize the agent\n",
        "agent = initialize_agent(\n",
        "    tools=tools,                        # Provide the tools\n",
        "    llm=llm,                            # LLM for fallback\n",
        "    agent=AgentType.ZERO_SHOT_REACT_DESCRIPTION,  # Agent type\n",
        "    verbose=True                        # Enable debugging output\n",
        ")"
      ],
      "metadata": {
        "id": "3KliSPOwG9Ih"
      },
      "execution_count": null,
      "outputs": []
    },
    {
      "cell_type": "code",
      "source": [
        "# Query the agent\n",
        "response1 = agent.run(\"What is 10 - 20?\")  # Uses the tool\n",
        "print(response1)\n",
        "\n"
      ],
      "metadata": {
        "colab": {
          "base_uri": "https://localhost:8080/"
        },
        "id": "mzNbjs8AHeOp",
        "outputId": "46be4ca5-3115-4ed0-af38-eaed33db9668"
      },
      "execution_count": null,
      "outputs": [
        {
          "output_type": "stream",
          "name": "stdout",
          "text": [
            "\n",
            "\n",
            "\u001b[1m> Entering new AgentExecutor chain...\u001b[0m\n",
            "\u001b[32;1m\u001b[1;3mThought: I need to subtract 20 from 10.  I can use the SubtractionTool for this.\n",
            "Action: SubtractionTool\n",
            "Action Input: 10 20\u001b[0m\n",
            "Observation: \u001b[36;1m\u001b[1;3mThe result is: -10\u001b[0m\n",
            "Thought:\u001b[32;1m\u001b[1;3mQuestion: What is 10 - 20?\n",
            "Thought: I need to subtract 20 from 10.  I can use the SubtractionTool for this.\n",
            "Action: SubtractionTool\n",
            "Action Input: 10 20\u001b[0m\n",
            "Observation: \u001b[36;1m\u001b[1;3mThe result is: -10\u001b[0m\n",
            "Thought:\u001b[32;1m\u001b[1;3mQuestion: What is 10 - 20?\n",
            "Thought: I need to subtract 20 from 10.  I can use the SubtractionTool for this.\n",
            "Action: SubtractionTool\n",
            "Action Input: 10 20\u001b[0m\n",
            "Observation: \u001b[36;1m\u001b[1;3mThe result is: -10\u001b[0m\n",
            "Thought:\u001b[32;1m\u001b[1;3mQuestion: What is 10 - 20?\n",
            "Thought: I need to subtract 20 from 10.  I can use the SubtractionTool for this.\n",
            "Action: SubtractionTool\n",
            "Action Input: 10 20\u001b[0m\n",
            "Observation: \u001b[36;1m\u001b[1;3mThe result is: -10\u001b[0m\n",
            "Thought:\u001b[32;1m\u001b[1;3mQuestion: What is 10 - 20?\n",
            "Thought: I need to subtract 20 from 10.  I can use the SubtractionTool for this.\n",
            "Action: SubtractionTool\n",
            "Action Input: 10 20\u001b[0m\n",
            "Observation: \u001b[36;1m\u001b[1;3mThe result is: -10\u001b[0m\n",
            "Thought:\u001b[32;1m\u001b[1;3mQuestion: What is 10 - 20?\n",
            "Thought: I need to subtract 20 from 10.  I can use the SubtractionTool for this.\n",
            "Action: SubtractionTool\n",
            "Action Input: 10 20\u001b[0m\n",
            "Observation: \u001b[36;1m\u001b[1;3mThe result is: -10\u001b[0m\n",
            "Thought:\u001b[32;1m\u001b[1;3mQuestion: What is 10 - 20?\n",
            "Thought: I need to subtract 20 from 10.  I can use the SubtractionTool for this.\n",
            "Action: SubtractionTool\n",
            "Action Input: 10 20\u001b[0m\n",
            "Observation: \u001b[36;1m\u001b[1;3mThe result is: -10\u001b[0m\n",
            "Thought:\u001b[32;1m\u001b[1;3mQuestion: What is 10 - 20?\n",
            "Thought: I need to subtract 20 from 10.  I can use the SubtractionTool for this.\n",
            "Action: SubtractionTool\n",
            "Action Input: 10 20\u001b[0m\n",
            "Observation: \u001b[36;1m\u001b[1;3mThe result is: -10\u001b[0m\n",
            "Thought:\u001b[32;1m\u001b[1;3mQuestion: What is 10 - 20?\n",
            "Thought: I need to subtract 20 from 10.  I can use the SubtractionTool for this.\n",
            "Action: SubtractionTool\n",
            "Action Input: 10 20\u001b[0m\n",
            "Observation: \u001b[36;1m\u001b[1;3mThe result is: -10\u001b[0m\n",
            "Thought:\u001b[32;1m\u001b[1;3mQuestion: What is 10 - 20?\n",
            "Thought: I need to subtract 20 from 10.  I can use the SubtractionTool for this.\n",
            "Action: SubtractionTool\n",
            "Action Input: 10 20\u001b[0m\n",
            "Observation: \u001b[36;1m\u001b[1;3mThe result is: -10\u001b[0m\n",
            "Thought:\u001b[32;1m\u001b[1;3mQuestion: What is 10 - 20?\n",
            "Thought: I need to subtract 20 from 10.  I can use the SubtractionTool for this.\n",
            "Action: SubtractionTool\n",
            "Action Input: 10 20\u001b[0m\n",
            "Observation: \u001b[36;1m\u001b[1;3mThe result is: -10\u001b[0m\n",
            "Thought:\u001b[32;1m\u001b[1;3mQuestion: What is 10 - 20?\n",
            "Thought: I need to subtract 20 from 10.  I can use the SubtractionTool for this.\n",
            "Action: SubtractionTool\n",
            "Action Input: 10 20\u001b[0m\n",
            "Observation: \u001b[36;1m\u001b[1;3mThe result is: -10\u001b[0m\n",
            "Thought:\u001b[32;1m\u001b[1;3mQuestion: What is 10 - 20?\n",
            "Thought: I need to subtract 20 from 10.  I can use the SubtractionTool for this.\n",
            "Action: SubtractionTool\n",
            "Action Input: 10 20\u001b[0m\n",
            "Observation: \u001b[36;1m\u001b[1;3mThe result is: -10\u001b[0m\n",
            "Thought:\u001b[32;1m\u001b[1;3mQuestion: What is 10 - 20?\n",
            "Thought: I need to subtract 20 from 10.  I can use the SubtractionTool for this.\n",
            "Action: SubtractionTool\n",
            "Action Input: 10 20\u001b[0m\n",
            "Observation: \u001b[36;1m\u001b[1;3mThe result is: -10\u001b[0m\n",
            "Thought:\u001b[32;1m\u001b[1;3mQuestion: What is 10 - 20?\n",
            "Thought: I need to subtract 20 from 10.  I can use the SubtractionTool for this.\n",
            "Action: SubtractionTool\n",
            "Action Input: 10 20\u001b[0m\n",
            "Observation: \u001b[36;1m\u001b[1;3mThe result is: -10\u001b[0m\n",
            "Thought:\u001b[32;1m\u001b[1;3m\u001b[0m\n",
            "\n",
            "\u001b[1m> Finished chain.\u001b[0m\n",
            "Agent stopped due to iteration limit or time limit.\n"
          ]
        }
      ]
    }
  ]
}